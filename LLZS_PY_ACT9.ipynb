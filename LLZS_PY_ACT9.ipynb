{
  "nbformat": 4,
  "nbformat_minor": 0,
  "metadata": {
    "colab": {
      "provenance": [],
      "authorship_tag": "ABX9TyO/gExvHCkk++QV866MTt03",
      "include_colab_link": true
    },
    "kernelspec": {
      "name": "python3",
      "display_name": "Python 3"
    },
    "language_info": {
      "name": "python"
    }
  },
  "cells": [
    {
      "cell_type": "markdown",
      "metadata": {
        "id": "view-in-github",
        "colab_type": "text"
      },
      "source": [
        "<a href=\"https://colab.research.google.com/github/luisa988/python9/blob/main/LLZS_PY_ACT9.ipynb\" target=\"_parent\"><img src=\"https://colab.research.google.com/assets/colab-badge.svg\" alt=\"Open In Colab\"/></a>"
      ]
    },
    {
      "cell_type": "markdown",
      "source": [
        "Realiza un programa en python que utilice el siguiente menu:\n",
        "\n",
        " MENU\n",
        "\n",
        " 1.- Crear Diccionario\n",
        "\n",
        " 2.- Imprimir Diccionario\n",
        "\n",
        " 0.- Salir\n",
        "\n",
        "\n",
        "\n",
        "CREAR DICCIIONARIO: funcion que retorne un diccionario con los datos de basicos de un alumno, donde se pide {id,nombre (1 O 2) , appaterno,apmaterno, edad,sexo}, El diccionario se debe generar automaticmanete a partir de listas.\n",
        "\n",
        "\n",
        "\n",
        "IMPRIMIR DICCIONARIO:  Funcion que reciba como parametro el diccionario, y le de una salida mostrando la informacion en forma de registro que se genero con el diccionario\n",
        "\n"
      ],
      "metadata": {
        "id": "nzVJKmqKA_MN"
      }
    },
    {
      "cell_type": "code",
      "execution_count": 1,
      "metadata": {
        "colab": {
          "base_uri": "https://localhost:8080/"
        },
        "id": "gDfIOECBAtzm",
        "outputId": "62ba84a6-7f81-449b-8faf-f9e96057a5b7"
      },
      "outputs": [
        {
          "output_type": "stream",
          "name": "stdout",
          "text": [
            "\n",
            "MENU\n",
            "\n",
            "1.- Crear Diccionario\n",
            "2.- Imprimir Diccionario\n",
            "0.- Salir\n",
            "Ingrese una opción: 1\n",
            "Ingrese el ID del alumno: 00356491\n",
            "Ingrese el nombre del alumno: luisa\n",
            "Ingrese el apellido paterno del alumno: zerega\n",
            "Ingrese el apellido materno del alumno: soto\n",
            "Ingrese la edad del alumno: 25\n",
            "Ingrese el sexo del alumno: femenino\n",
            "\n",
            "MENU\n",
            "\n",
            "1.- Crear Diccionario\n",
            "2.- Imprimir Diccionario\n",
            "0.- Salir\n",
            "Ingrese una opción: 2\n",
            "Registro del alumno:\n",
            "ID: 00356491\n",
            "Nombre: luisa\n",
            "Apellido Paterno: zerega\n",
            "Apellido Materno: soto\n",
            "Edad: 25\n",
            "Sexo: femenino\n",
            "\n",
            "MENU\n",
            "\n",
            "1.- Crear Diccionario\n",
            "2.- Imprimir Diccionario\n",
            "0.- Salir\n",
            "Ingrese una opción: 0\n",
            "Saliendo del programa...\n"
          ]
        }
      ],
      "source": [
        "def crear_diccionario():\n",
        "    id = input(\"Ingrese el ID del alumno: \")\n",
        "    nombre = input(\"Ingrese el nombre del alumno: \")\n",
        "    appaterno = input(\"Ingrese el apellido paterno del alumno: \")\n",
        "    apmaterno = input(\"Ingrese el apellido materno del alumno: \")\n",
        "    edad = input(\"Ingrese la edad del alumno: \")\n",
        "    sexo = input(\"Ingrese el sexo del alumno: \")\n",
        "\n",
        "    diccionario = {\n",
        "        \"ID\": id,\n",
        "        \"Nombre\": nombre,\n",
        "        \"Apellido Paterno\": appaterno,\n",
        "        \"Apellido Materno\": apmaterno,\n",
        "        \"Edad\": edad,\n",
        "        \"Sexo\": sexo\n",
        "    }\n",
        "\n",
        "    return diccionario\n",
        "\n",
        "def imprimir_diccionario(diccionario):\n",
        "    print(\"Registro del alumno:\")\n",
        "    for key, value in diccionario.items():\n",
        "        print(f\"{key}: {value}\")\n",
        "\n",
        "def menu():\n",
        "    diccionario = {}\n",
        "    opcion = -1\n",
        "\n",
        "    while opcion != 0:\n",
        "        print(\"\\nMENU\\n\")\n",
        "        print(\"1.- Crear Diccionario\")\n",
        "        print(\"2.- Imprimir Diccionario\")\n",
        "        print(\"0.- Salir\")\n",
        "\n",
        "        opcion = int(input(\"Ingrese una opción: \"))\n",
        "\n",
        "        if opcion == 1:\n",
        "            diccionario = crear_diccionario()\n",
        "        elif opcion == 2:\n",
        "            if diccionario:\n",
        "                imprimir_diccionario(diccionario)\n",
        "            else:\n",
        "                print(\"El diccionario está vacío. Por favor, cree un diccionario primero.\")\n",
        "        elif opcion == 0:\n",
        "            print(\"Saliendo del programa...\")\n",
        "        else:\n",
        "            print(\"Opción inválida. Por favor, ingrese una opción válida.\")\n",
        "\n",
        "menu()\n"
      ]
    }
  ]
}